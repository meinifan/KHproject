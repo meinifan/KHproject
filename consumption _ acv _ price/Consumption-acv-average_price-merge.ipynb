{
 "cells": [
  {
   "cell_type": "code",
   "execution_count": 2,
   "metadata": {
    "ExecuteTime": {
     "end_time": "2020-10-29T09:33:31.626223Z",
     "start_time": "2020-10-29T09:33:30.355461Z"
    }
   },
   "outputs": [],
   "source": [
    "import pandas as pd\n",
    "import numpy as np\n",
    "from datetime import timedelta\n",
    "import plotly.express as px\n",
    "import plotly.graph_objects as go\n",
    "import dash\n",
    "from jupyter_dash import JupyterDash\n",
    "import dash_core_components as dcc\n",
    "import dash_html_components as html\n",
    "from dash.dependencies import Input, Output\n",
    "import plotly as py\n",
    "import statsmodels\n",
    "from scipy import stats"
   ]
  },
  {
   "cell_type": "markdown",
   "metadata": {},
   "source": [
    "# Consumption"
   ]
  },
  {
   "cell_type": "code",
   "execution_count": 3,
   "metadata": {
    "ExecuteTime": {
     "end_time": "2020-10-29T09:33:38.856202Z",
     "start_time": "2020-10-29T09:33:32.899351Z"
    }
   },
   "outputs": [],
   "source": [
    "index = pd.read_excel('data/5. display_feature.xlsx', 'Index', header = 1)"
   ]
  },
  {
   "cell_type": "code",
   "execution_count": 4,
   "metadata": {},
   "outputs": [],
   "source": [
    "# comsumption\n",
    "comsumption = pd.DataFrame()\n",
    "for i in range(1,66):\n",
    "    data = pd.read_excel('data/5. display_feature.xlsx', str(i))\n",
    "    data = data.iloc[7:29]\n",
    "    data.iloc[0,0] = 'SKU'\n",
    "    data.iloc[0,] = data.iloc[0,].str[-8:]\n",
    "    data.columns = data.iloc[0,]\n",
    "    data = data.iloc[1:, :]\n",
    "    data.insert(1, 'Region', index[index.Index==i].Geography.item(), True)\n",
    "    data = pd.melt(data, id_vars = ['SKU', 'Region'], var_name = 'end_of_week', value_name = 'consumption')\n",
    "    # replace NaNs\n",
    "    data['consumption'] = data['consumption'].replace(np.nan,0).astype(int)\n",
    "\n",
    "    # add Platform\n",
    "    data['Platform'] = data['SKU'].map({'33 KH DINNER 32 PK': 'Dinner roll',\n",
    "                                     '11 KH DINNER 24 PK': 'Dinner roll',\n",
    "                                     '38 KH Slider Buns 0073435060801': 'Sandwich',\n",
    "                                     '07C KH Total Hamburger Buns': 'Sandwich',\n",
    "                                     '30 KH DINNER 18 PK': 'Dinner roll',\n",
    "                                     '15 KH Orig Sliced 16oz 7343509330': 'Bread',\n",
    "                                     '31 KH Orig Dnr 18pk 7343507018': 'Dinner roll',\n",
    "                                     '22 KH Orig Dnr 24pk 7343500230': 'Dinner roll',\n",
    "                                     '10 KH DINNER 12 PK': 'Dinner roll',\n",
    "                                     '20 KH Hny Wht Dnr 12pk 7343500005': 'Dinner roll',\n",
    "                                     '07D KH Total Hot Dog Buns': 'Sandwich',\n",
    "                                     '13 KH Orig Rnd Loaf 16oz 7343500001': 'Bread',\n",
    "                                     '34 KH Orig Dnr 32pk 7343507032': 'Dinner roll',\n",
    "                                     '12 KH Mini Sub': 'Sandwich',\n",
    "                                     '16 KH Orig Dnr 4pk 7343500006': 'Dinner roll',\n",
    "                                     '21 KH Svry Btr Dnr 12pk 7343500201': 'Dinner roll',\n",
    "                                     '18 KH Svry Btr Dnr 4pk 7343500225': 'Dinner roll',\n",
    "                                     '19 KH Orig Dnr 12pk 7343500004': 'Dinner roll',\n",
    "                                     '29 KH Svry Btr Dnr 24pk 7343500233': 'Dinner roll',\n",
    "                                     '09 KH DINNER 4 PK': 'Dinner roll'}) \n",
    "    # date\n",
    "    data['end_of_week'] = pd.to_datetime(data['end_of_week'])\n",
    "    data['start_of_week'] = data['end_of_week'] - timedelta(days=6)\n",
    "    col_name='start_of_week'\n",
    "    col = data.pop(col_name)\n",
    "    data.insert(2, col_name, col)\n",
    "\n",
    "    # drop rows\n",
    "    for i in ['33 KH DINNER 32 PK','11 KH DINNER 24 PK',\n",
    "              '10 KH DINNER 12 PK','09 KH DINNER 4 PK',\"04 Total King's Hawaiian\",'30 KH DINNER 18 PK']:\n",
    "        data.drop(data[data['SKU'] == i].index, inplace = True)\n",
    "    data.reset_index(drop = True)   \n",
    "    comsumption = comsumption.append(data,ignore_index=True)"
   ]
  },
  {
   "cell_type": "code",
   "execution_count": 5,
   "metadata": {
    "scrolled": false
   },
   "outputs": [
    {
     "data": {
      "text/plain": [
       "(288684, 6)"
      ]
     },
     "execution_count": 5,
     "metadata": {},
     "output_type": "execute_result"
    }
   ],
   "source": [
    "comsumption.shape"
   ]
  },
  {
   "cell_type": "markdown",
   "metadata": {},
   "source": [
    "# ACV"
   ]
  },
  {
   "cell_type": "code",
   "execution_count": 6,
   "metadata": {},
   "outputs": [],
   "source": [
    "index = pd.read_excel('data/5.1. 2016-2020 ACV by week_USC_UPDATED CONFIDENTIAL.xlsx', 'Index', header = 1)"
   ]
  },
  {
   "cell_type": "code",
   "execution_count": 7,
   "metadata": {},
   "outputs": [],
   "source": [
    "# acv\n",
    "acv = pd.DataFrame()\n",
    "for i in range(1,66):\n",
    "    data = pd.read_excel('data/5.1. 2016-2020 ACV by week_USC_UPDATED CONFIDENTIAL.xlsx', str(i))\n",
    "    data = data.iloc[7:29]\n",
    "    data.iloc[0,0] = 'SKU'\n",
    "    data.iloc[0,] = data.iloc[0,].str[-8:]\n",
    "    data.columns = data.iloc[0,]\n",
    "    data = data.iloc[1:, :]\n",
    "    data.insert(1, 'Region', index[index.Index==i].Geography.item(), True)\n",
    "    data = pd.melt(data, id_vars = ['SKU', 'Region'], var_name = 'end_of_week', value_name = 'acv')\n",
    "    # replace NaNs\n",
    "    data['acv'] = data['acv'].replace(np.nan,0).astype(int)\n",
    "\n",
    "    # add Platform\n",
    "    data['Platform'] = data['SKU'].map({'33 KH DINNER 32 PK': 'Dinner roll',\n",
    "                                     '11 KH DINNER 24 PK': 'Dinner roll',\n",
    "                                     '38 KH Slider Buns 0073435060801': 'Sandwich',\n",
    "                                     '07C KH Total Hamburger Buns': 'Sandwich',\n",
    "                                     '30 KH DINNER 18 PK': 'Dinner roll',\n",
    "                                     '15 KH Orig Sliced 16oz 7343509330': 'Bread',\n",
    "                                     '31 KH Orig Dnr 18pk 7343507018': 'Dinner roll',\n",
    "                                     '22 KH Orig Dnr 24pk 7343500230': 'Dinner roll',\n",
    "                                     '10 KH DINNER 12 PK': 'Dinner roll',\n",
    "                                     '20 KH Hny Wht Dnr 12pk 7343500005': 'Dinner roll',\n",
    "                                     '07D KH Total Hot Dog Buns': 'Sandwich',\n",
    "                                     '13 KH Orig Rnd Loaf 16oz 7343500001': 'Bread',\n",
    "                                     '34 KH Orig Dnr 32pk 7343507032': 'Dinner roll',\n",
    "                                     '12 KH Mini Sub': 'Sandwich',\n",
    "                                     '16 KH Orig Dnr 4pk 7343500006': 'Dinner roll',\n",
    "                                     '21 KH Svry Btr Dnr 12pk 7343500201': 'Dinner roll',\n",
    "                                     '18 KH Svry Btr Dnr 4pk 7343500225': 'Dinner roll',\n",
    "                                     '19 KH Orig Dnr 12pk 7343500004': 'Dinner roll',\n",
    "                                     '29 KH Svry Btr Dnr 24pk 7343500233': 'Dinner roll',\n",
    "                                     '09 KH DINNER 4 PK': 'Dinner roll'}) \n",
    "    # date\n",
    "    data['end_of_week'] = pd.to_datetime(data['end_of_week'])\n",
    "    data['start_of_week'] = data['end_of_week'] - timedelta(days=6)\n",
    "    col_name='start_of_week'\n",
    "    col = data.pop(col_name)\n",
    "    data.insert(2, col_name, col)\n",
    "\n",
    "    # drop rows\n",
    "    for i in ['33 KH DINNER 32 PK','11 KH DINNER 24 PK',\n",
    "              '10 KH DINNER 12 PK','09 KH DINNER 4 PK',\"04 Total King's Hawaiian\",'30 KH DINNER 18 PK']:\n",
    "        data.drop(data[data['SKU'] == i].index, inplace = True)\n",
    "    data.reset_index(drop = True)   \n",
    "    acv = acv.append(data,ignore_index=True)"
   ]
  },
  {
   "cell_type": "code",
   "execution_count": 8,
   "metadata": {
    "scrolled": false
   },
   "outputs": [
    {
     "data": {
      "text/plain": [
       "(288684, 6)"
      ]
     },
     "execution_count": 8,
     "metadata": {},
     "output_type": "execute_result"
    }
   ],
   "source": [
    "acv.shape"
   ]
  },
  {
   "cell_type": "markdown",
   "metadata": {},
   "source": [
    "# Average price"
   ]
  },
  {
   "cell_type": "code",
   "execution_count": 9,
   "metadata": {},
   "outputs": [],
   "source": [
    "index = pd.read_excel('data/3. 2016-2020 Avg price by SKU by week USC CONFIDENTIAL.xlsx', 'Index', header = 1)"
   ]
  },
  {
   "cell_type": "code",
   "execution_count": null,
   "metadata": {},
   "outputs": [],
   "source": [
    "# average price\n",
    "average_price = pd.DataFrame()\n",
    "for i in range(1,66):\n",
    "    data = pd.read_excel('data/3. 2016-2020 Avg price by SKU by week USC CONFIDENTIAL.xlsx', str(i))\n",
    "    data = data.iloc[7:29]\n",
    "    data.iloc[0,0] = 'SKU'\n",
    "    data.iloc[0,] = data.iloc[0,].str[-8:]\n",
    "    data.columns = data.iloc[0,]\n",
    "    data = data.iloc[1:, :]\n",
    "    data.insert(1, 'Region', index[index.Index==i].Geography.item(), True)\n",
    "    data = pd.melt(data, id_vars = ['SKU', 'Region'], var_name = 'end_of_week', value_name = 'average_price')\n",
    "    # replace NaNs\n",
    "    data['average_price'] = data['average_price'].replace(np.nan,0)\n",
    "\n",
    "    # add Platform\n",
    "    data['Platform'] = data['SKU'].map({'33 KH DINNER 32 PK': 'Dinner roll',\n",
    "                                     '11 KH DINNER 24 PK': 'Dinner roll',\n",
    "                                     '38 KH Slider Buns 0073435060801': 'Sandwich',\n",
    "                                     '07C KH Total Hamburger Buns': 'Sandwich',\n",
    "                                     '30 KH DINNER 18 PK': 'Dinner roll',\n",
    "                                     '15 KH Orig Sliced 16oz 7343509330': 'Bread',\n",
    "                                     '31 KH Orig Dnr 18pk 7343507018': 'Dinner roll',\n",
    "                                     '22 KH Orig Dnr 24pk 7343500230': 'Dinner roll',\n",
    "                                     '10 KH DINNER 12 PK': 'Dinner roll',\n",
    "                                     '20 KH Hny Wht Dnr 12pk 7343500005': 'Dinner roll',\n",
    "                                     '07D KH Total Hot Dog Buns': 'Sandwich',\n",
    "                                     '13 KH Orig Rnd Loaf 16oz 7343500001': 'Bread',\n",
    "                                     '34 KH Orig Dnr 32pk 7343507032': 'Dinner roll',\n",
    "                                     '12 KH Mini Sub': 'Sandwich',\n",
    "                                     '16 KH Orig Dnr 4pk 7343500006': 'Dinner roll',\n",
    "                                     '21 KH Svry Btr Dnr 12pk 7343500201': 'Dinner roll',\n",
    "                                     '18 KH Svry Btr Dnr 4pk 7343500225': 'Dinner roll',\n",
    "                                     '19 KH Orig Dnr 12pk 7343500004': 'Dinner roll',\n",
    "                                     '29 KH Svry Btr Dnr 24pk 7343500233': 'Dinner roll',\n",
    "                                     '09 KH DINNER 4 PK': 'Dinner roll'}) \n",
    "    # date\n",
    "    data['end_of_week'] = pd.to_datetime(data['end_of_week'])\n",
    "    data['start_of_week'] = data['end_of_week'] - timedelta(days=6)\n",
    "    col_name='start_of_week'\n",
    "    col = data.pop(col_name)\n",
    "    data.insert(2, col_name, col)\n",
    "\n",
    "    # drop rows\n",
    "    for i in ['33 KH DINNER 32 PK','11 KH DINNER 24 PK',\n",
    "              '10 KH DINNER 12 PK','09 KH DINNER 4 PK',\"04 Total King's Hawaiian\",'30 KH DINNER 18 PK']:\n",
    "        data.drop(data[data['SKU'] == i].index, inplace = True)\n",
    "    data.reset_index(drop = True)   \n",
    "    average_price = average_price.append(data,ignore_index=True)"
   ]
  },
  {
   "cell_type": "code",
   "execution_count": 10,
   "metadata": {
    "scrolled": true
   },
   "outputs": [
    {
     "data": {
      "text/plain": [
       "(288684, 6)"
      ]
     },
     "execution_count": 10,
     "metadata": {},
     "output_type": "execute_result"
    }
   ],
   "source": [
    "average_price.shape"
   ]
  },
  {
   "cell_type": "markdown",
   "metadata": {},
   "source": [
    "# Merge"
   ]
  },
  {
   "cell_type": "code",
   "execution_count": 11,
   "metadata": {},
   "outputs": [],
   "source": [
    "merge_data = average_price.copy()\n",
    "merge_data['consumption'] = comsumption['consumption']\n",
    "merge_data['acv'] = acv['acv']\n",
    "col_name=\"Platform\"\n",
    "col = merge_data.pop(col_name)\n",
    "merge_data.insert(1, col_name, col)"
   ]
  },
  {
   "cell_type": "code",
   "execution_count": 12,
   "metadata": {},
   "outputs": [
    {
     "data": {
      "text/html": [
       "<div>\n",
       "<style scoped>\n",
       "    .dataframe tbody tr th:only-of-type {\n",
       "        vertical-align: middle;\n",
       "    }\n",
       "\n",
       "    .dataframe tbody tr th {\n",
       "        vertical-align: top;\n",
       "    }\n",
       "\n",
       "    .dataframe thead th {\n",
       "        text-align: right;\n",
       "    }\n",
       "</style>\n",
       "<table border=\"1\" class=\"dataframe\">\n",
       "  <thead>\n",
       "    <tr style=\"text-align: right;\">\n",
       "      <th></th>\n",
       "      <th>SKU</th>\n",
       "      <th>Platform</th>\n",
       "      <th>Region</th>\n",
       "      <th>start_of_week</th>\n",
       "      <th>end_of_week</th>\n",
       "      <th>average_price</th>\n",
       "      <th>consumption</th>\n",
       "      <th>acv</th>\n",
       "      <th>year</th>\n",
       "    </tr>\n",
       "  </thead>\n",
       "  <tbody>\n",
       "    <tr>\n",
       "      <th>0</th>\n",
       "      <td>34 KH Orig Dnr 32pk 7343507032</td>\n",
       "      <td>Dinner roll</td>\n",
       "      <td>Albany, NY</td>\n",
       "      <td>2015-01-05</td>\n",
       "      <td>2015-01-11</td>\n",
       "      <td>0.000000</td>\n",
       "      <td>0</td>\n",
       "      <td>0</td>\n",
       "      <td>2015</td>\n",
       "    </tr>\n",
       "    <tr>\n",
       "      <th>1</th>\n",
       "      <td>22 KH Orig Dnr 24pk 7343500230</td>\n",
       "      <td>Dinner roll</td>\n",
       "      <td>Albany, NY</td>\n",
       "      <td>2015-01-05</td>\n",
       "      <td>2015-01-11</td>\n",
       "      <td>4.605175</td>\n",
       "      <td>739</td>\n",
       "      <td>21</td>\n",
       "      <td>2015</td>\n",
       "    </tr>\n",
       "    <tr>\n",
       "      <th>2</th>\n",
       "      <td>29 KH Svry Btr Dnr 24pk 7343500233</td>\n",
       "      <td>Dinner roll</td>\n",
       "      <td>Albany, NY</td>\n",
       "      <td>2015-01-05</td>\n",
       "      <td>2015-01-11</td>\n",
       "      <td>4.480000</td>\n",
       "      <td>37</td>\n",
       "      <td>9</td>\n",
       "      <td>2015</td>\n",
       "    </tr>\n",
       "    <tr>\n",
       "      <th>3</th>\n",
       "      <td>31 KH Orig Dnr 18pk 7343507018</td>\n",
       "      <td>Dinner roll</td>\n",
       "      <td>Albany, NY</td>\n",
       "      <td>2015-01-05</td>\n",
       "      <td>2015-01-11</td>\n",
       "      <td>3.480000</td>\n",
       "      <td>75</td>\n",
       "      <td>9</td>\n",
       "      <td>2015</td>\n",
       "    </tr>\n",
       "    <tr>\n",
       "      <th>4</th>\n",
       "      <td>19 KH Orig Dnr 12pk 7343500004</td>\n",
       "      <td>Dinner roll</td>\n",
       "      <td>Albany, NY</td>\n",
       "      <td>2015-01-05</td>\n",
       "      <td>2015-01-11</td>\n",
       "      <td>3.143336</td>\n",
       "      <td>232</td>\n",
       "      <td>32</td>\n",
       "      <td>2015</td>\n",
       "    </tr>\n",
       "  </tbody>\n",
       "</table>\n",
       "</div>"
      ],
      "text/plain": [
       "                                  SKU     Platform      Region start_of_week  \\\n",
       "0      34 KH Orig Dnr 32pk 7343507032  Dinner roll  Albany, NY    2015-01-05   \n",
       "1      22 KH Orig Dnr 24pk 7343500230  Dinner roll  Albany, NY    2015-01-05   \n",
       "2  29 KH Svry Btr Dnr 24pk 7343500233  Dinner roll  Albany, NY    2015-01-05   \n",
       "3      31 KH Orig Dnr 18pk 7343507018  Dinner roll  Albany, NY    2015-01-05   \n",
       "4      19 KH Orig Dnr 12pk 7343500004  Dinner roll  Albany, NY    2015-01-05   \n",
       "\n",
       "  end_of_week  average_price  consumption  acv  year  \n",
       "0  2015-01-11       0.000000            0    0  2015  \n",
       "1  2015-01-11       4.605175          739   21  2015  \n",
       "2  2015-01-11       4.480000           37    9  2015  \n",
       "3  2015-01-11       3.480000           75    9  2015  \n",
       "4  2015-01-11       3.143336          232   32  2015  "
      ]
     },
     "execution_count": 12,
     "metadata": {},
     "output_type": "execute_result"
    }
   ],
   "source": [
    "merge_data['year'] = merge_data['end_of_week'].dt.year\n",
    "merge_data = merge_data.loc[merge_data['Region'] != 'Total US - Multi Outlet',].\\\n",
    "            reset_index(drop=True)\n",
    "merge_data['Region'] = merge_data['Region'].map(lambda x: x.rstrip(' - Multi Outlet'))\n",
    "merge_data.head()"
   ]
  }
 ],
 "metadata": {
  "kernelspec": {
   "display_name": "Python 3",
   "language": "python",
   "name": "python3"
  },
  "language_info": {
   "codemirror_mode": {
    "name": "ipython",
    "version": 3
   },
   "file_extension": ".py",
   "mimetype": "text/x-python",
   "name": "python",
   "nbconvert_exporter": "python",
   "pygments_lexer": "ipython3",
   "version": "3.8.3"
  }
 },
 "nbformat": 4,
 "nbformat_minor": 4
}
